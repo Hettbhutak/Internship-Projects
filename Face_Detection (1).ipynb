{
  "cells": [
    {
      "cell_type": "code",
      "execution_count": null,
      "metadata": {
        "colab": {
          "base_uri": "https://localhost:8080/"
        },
        "id": "Bu9-vtwdOWgK",
        "outputId": "0426659c-067f-452f-c91c-ce56648f27f3"
      },
      "outputs": [
        {
          "ename": "",
          "evalue": "",
          "output_type": "error",
          "traceback": [
            "\u001b[1;31mRunning cells with 'Python 3.10.11' requires the ipykernel package.\n",
            "\u001b[1;31m<a href='command:jupyter.createPythonEnvAndSelectController'>Create a Python Environment</a> with the required packages.\n",
            "\u001b[1;31mOr install 'ipykernel' using the command: '\"c:/Users/Het Bhutak/AppData/Local/Microsoft/WindowsApps/python3.10.exe\" -m pip install ipykernel -U --user --force-reinstall'"
          ]
        }
      ],
      "source": [
        "from google.colab import drive\n",
        "drive.mount('/content/drive')"
      ]
    },
    {
      "cell_type": "code",
      "execution_count": null,
      "metadata": {
        "colab": {
          "base_uri": "https://localhost:8080/",
          "height": 717
        },
        "id": "QW5-mBONNUiO",
        "outputId": "c07649b1-2ea5-48c1-df68-810a6b77ecd4"
      },
      "outputs": [],
      "source": [
        "import numpy as np\n",
        "import cv2\n",
        "from google.colab.patches import cv2_imshow\n",
        "face_classifier=cv2.CascadeClassifier(\"/content/drive/MyDrive/haarcascade_frontalface_default.xml\")\n",
        "image=cv2.imread(\"/content/drive/MyDrive/thor1.jpg\")\n",
        "gray=cv2.cvtColor(image,cv2.COLOR_BGR2GRAY)\n",
        "faces=face_classifier.detectMultiScale(image,1.3,5)\n",
        "if faces is ():\n",
        "  print(\"no face found\")\n",
        "\n",
        "for (x,y,w,h) in faces:\n",
        "  cv2.rectangle(image,(x,y),(x+w,y+h),(127,0,255),2)\n",
        "  cv2_imshow(image)\n",
        "  cv2.waitKey(0)\n",
        "\n",
        "cv2.destroyAllWindows()"
      ]
    },
    {
      "cell_type": "code",
      "execution_count": null,
      "metadata": {
        "colab": {
          "base_uri": "https://localhost:8080/",
          "height": 734
        },
        "id": "llH38e4zP_J5",
        "outputId": "ca9d67ba-2cdf-49a7-fa1d-3c7e1756cb29"
      },
      "outputs": [],
      "source": [
        "import numpy as np\n",
        "import cv2\n",
        "from google.colab.patches import cv2_imshow\n",
        "#we point OpenCV`s cascadeClassfier function to where our\n",
        "#classifier (XML file format ) is stored\n",
        "\n",
        "#face_classifier = cv2.CascadeClassifier('Haarcascades/haarcascade_frontalface_default.xml')\n",
        "face_classifier = cv2.CascadeClassifier('/content/drive/MyDrive/haarcascade_frontalface_default.xml')\n",
        "#load our image then convert it to grayscale\n",
        "\n",
        "image = cv2.imread('/content/drive/MyDrive/thor1.jpg')\n",
        "gray = cv2.cvtColor(image, cv2.COLOR_BGR2GRAY)\n",
        "\n",
        "#our classifier returns the ROI of the detected face as a tuple\n",
        "#it stores the top left coordinate and the bottom right coordinates\n",
        "\n",
        "#faces = face_classifier.detectMultiScale(gray, 1.3, 5)\n",
        "faces = face_classifier.detectMultiScale(gray, 1.3, 5)\n",
        "\n",
        "# when no faces detected , face_classifier returns and empty tuple\n",
        "if faces == ():\n",
        "    print(\"No faces found\")\n",
        "\n",
        "#we iterete through our faces array and draw a rectangle\n",
        "#over each face in faces\n",
        "for (x,y,w,h) in faces:\n",
        "    cv2.rectangle(image,(x,y),(x+w,y+h),(127,0,255),2)\n",
        "    cv2_imshow(image)\n",
        "    cv2.waitKey(0)\n",
        "\n",
        "cv2.destroyAllWindows()"
      ]
    },
    {
      "cell_type": "code",
      "execution_count": null,
      "metadata": {
        "colab": {
          "base_uri": "https://localhost:8080/",
          "height": 1000
        },
        "id": "i4mwK1xiRl3d",
        "outputId": "0554f29d-f591-43c6-82bb-ba6026fee468"
      },
      "outputs": [],
      "source": [
        "import numpy as np\n",
        "import cv2\n",
        "from google.colab.patches import cv2_imshow\n",
        "\n",
        "from google.colab.patches import cv2_imshow\n",
        "face_classifier=cv2.CascadeClassifier(\"/content/drive/MyDrive/haarcascade_frontalface_default.xml\")\n",
        "eye_classifier=cv2.CascadeClassifier(\"/content/drive/MyDrive/haarcascade_eye.xml\")\n",
        "image=cv2.imread(\"/content/drive/MyDrive/thor1.jpg\")\n",
        "gray=cv2.cvtColor(image,cv2.COLOR_BGR2GRAY)\n",
        "faces=face_classifier.detectMultiScale(image,1.3,5)\n",
        "\n",
        "if faces == ():\n",
        "    print(\"No faces found\")\n",
        "\n",
        "for (x,y,w,h)in faces:\n",
        "    cv2.rectangle(image,(x,y),(x+w,y+h),(127,0,255),2)\n",
        "    roi_gray = gray[y:y+h, x:x+w]\n",
        "    roi_color = image[y:y+h, x:x+w]\n",
        "    eyes = eye_classifier.detectMultiScale(roi_gray)\n",
        "\n",
        "    for (ex,ey,ew,eh) in eyes:\n",
        "        cv2.rectangle(roi_color, (ex,ey), (ex+ew, ey+eh), (0,255,0),2)\n",
        "        cv2_imshow(image)\n",
        "        cv2.waitKey(0)\n",
        "\n",
        "cv2.destroyAllWindows()"
      ]
    },
    {
      "cell_type": "code",
      "execution_count": null,
      "metadata": {
        "colab": {
          "base_uri": "https://localhost:8080/",
          "height": 1000
        },
        "id": "x8RmGjmSuAbu",
        "outputId": "2d0bc07d-b84d-4aeb-8026-cf2b362699df"
      },
      "outputs": [],
      "source": [
        "import numpy as np\n",
        "import cv2\n",
        "from google.colab.patches import cv2_imshow\n",
        "face_classifier=cv2.CascadeClassifier(\"/content/drive/MyDrive/haarcascade_frontalface_default.xml\")\n",
        "eye_classifier=cv2.CascadeClassifier(\"/content/drive/MyDrive/haarcascade_eye.xml\")\n",
        "image=cv2.imread(\"/content/drive/MyDrive/thor1.jpg\")\n",
        "gray=cv2.cvtColor(image,cv2.COLOR_BGR2GRAY)\n",
        "faces=face_classifier.detectMultiScale(image,1.3,5)\n",
        "if faces is ():\n",
        "  print(\"no face found\")\n",
        "\n",
        "for (x,y,w,h) in faces:\n",
        "  cv2.rectangle(image,(x,y),(x+w,y+h),(127,0,255),2)\n",
        "  cv2_imshow(image)\n",
        "  cv2.waitKey(0)\n",
        "  roi_gray=gray[y:y+h,x:x+w]\n",
        "  roi_color=image[y:y+h,x:x+w]\n",
        "  eyes=eye_classifier.detectMultiScale(roi_gray)\n",
        "  for (cx,cy,cw,ch) in eyes:\n",
        "    cv2.rectangle(roi_color,(cx,cy),(cx+cw,cy+ch),(255,255,0),2)\n",
        "    cv2_imshow(image)\n",
        "\n",
        "cv2.destroyAllWindows()"
      ]
    }
  ],
  "metadata": {
    "colab": {
      "provenance": []
    },
    "kernelspec": {
      "display_name": "Python 3",
      "name": "python3"
    },
    "language_info": {
      "name": "python",
      "version": "3.10.11"
    }
  },
  "nbformat": 4,
  "nbformat_minor": 0
}
