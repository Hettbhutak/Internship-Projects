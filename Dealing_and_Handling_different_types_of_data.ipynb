{
  "nbformat": 4,
  "nbformat_minor": 0,
  "metadata": {
    "colab": {
      "provenance": []
    },
    "kernelspec": {
      "name": "python3",
      "display_name": "Python 3"
    },
    "language_info": {
      "name": "python"
    }
  },
  "cells": [
    {
      "cell_type": "code",
      "execution_count": null,
      "metadata": {
        "colab": {
          "base_uri": "https://localhost:8080/"
        },
        "id": "A1Q3Jwg4mg4G",
        "outputId": "1ca9916d-1ab2-42d5-a831-2f653a348dff"
      },
      "outputs": [
        {
          "output_type": "stream",
          "name": "stdout",
          "text": [
            "Sum: 84.5, Square root:6.48074069840786\n"
          ]
        }
      ],
      "source": [
        "#Handle Numerical data\n",
        "import numpy as np\n",
        "num1=42\n",
        "num2=42.5\n",
        "#Perform operation\n",
        "sum_value=num1+num2\n",
        "square_root=np.sqrt(num1)\n",
        "print(f\"Sum: {sum_value}, Square root:{square_root}\")"
      ]
    },
    {
      "cell_type": "code",
      "source": [
        "#Handle the missing value\n",
        "import pandas as pd\n",
        "df.isnull().sum()\n",
        "df.fillna()"
      ],
      "metadata": {
        "id": "YIyNjy2boJIE"
      },
      "execution_count": null,
      "outputs": []
    },
    {
      "cell_type": "code",
      "source": [
        "#Handling the Numerical Data\n",
        "mean\n",
        "median\n",
        "mode imputation"
      ],
      "metadata": {
        "id": "vy-XyhO20v93"
      },
      "execution_count": null,
      "outputs": []
    },
    {
      "cell_type": "code",
      "source": [
        "#Handling the Categorcal data\n",
        "import pandas as pd\n",
        "df=pd.DataFrame({'Color':['Red','Blue','Green','Red', np.nan]})\n",
        "\n",
        "df['Color'].fillna('Unknown',inplace=True)\n",
        "#Convert categorical values to numerical(One-Hot Encoding)\n",
        "df_encoded=pd.get_dummies(df, columns=['Color'])\n",
        "print(df_encoded)"
      ],
      "metadata": {
        "colab": {
          "base_uri": "https://localhost:8080/"
        },
        "id": "7Ff2nmMkodzv",
        "outputId": "72259741-4072-4519-bacc-eb0c72840525"
      },
      "execution_count": null,
      "outputs": [
        {
          "output_type": "stream",
          "name": "stdout",
          "text": [
            "   Color_Blue  Color_Green  Color_Red  Color_Unknown\n",
            "0       False        False       True          False\n",
            "1        True        False      False          False\n",
            "2       False         True      False          False\n",
            "3       False        False       True          False\n",
            "4       False        False      False           True\n"
          ]
        },
        {
          "output_type": "stream",
          "name": "stderr",
          "text": [
            "<ipython-input-5-c711742d8688>:4: FutureWarning: A value is trying to be set on a copy of a DataFrame or Series through chained assignment using an inplace method.\n",
            "The behavior will change in pandas 3.0. This inplace method will never work because the intermediate object on which we are setting values always behaves as a copy.\n",
            "\n",
            "For example, when doing 'df[col].method(value, inplace=True)', try using 'df.method({col: value}, inplace=True)' or df[col] = df[col].method(value) instead, to perform the operation inplace on the original object.\n",
            "\n",
            "\n",
            "  df['Color'].fillna('Unknown',inplace=True)\n"
          ]
        }
      ]
    },
    {
      "cell_type": "code",
      "source": [
        "#Handle the text data\n",
        "import re\n",
        "text=\"Hello, World! Welcome to Python.\"\n",
        "\n",
        "#Convert to lowercase\n",
        "text=text.lower()\n",
        "\n",
        "#Remove the Punctuation\n",
        "text=re.sub(r'[^a-zA-Z0-9\\s]','',text)\n",
        "\n",
        "#Tokenize words\n",
        "words=text.split()\n",
        "print(words)"
      ],
      "metadata": {
        "colab": {
          "base_uri": "https://localhost:8080/"
        },
        "id": "dU-EDMH-pYjz",
        "outputId": "7e166ec6-c449-4731-b60d-63b5777786b4"
      },
      "execution_count": null,
      "outputs": [
        {
          "output_type": "stream",
          "name": "stdout",
          "text": [
            "['hello', 'world', 'welcome', 'to', 'python']\n"
          ]
        }
      ]
    },
    {
      "cell_type": "code",
      "source": [
        "#Handle the date and time data\n",
        "from datetime import datetime, timedelta\n",
        "\n",
        "#Current date and time\n",
        "now=datetime.now()\n",
        "\n",
        "#Formatting the date\n",
        "formatted_date=now.strftime(\"%Y-%m-%d %H:%M:%S\")\n",
        "\n",
        "#Adding the 7 days\n",
        "future_date=now+timedelta(days=7)\n",
        "print(f\"Current Date:{formatted_date}\")\n",
        "print(f\"Future Date: {future_date.strftime('%Y-%m-%d')}\")"
      ],
      "metadata": {
        "colab": {
          "base_uri": "https://localhost:8080/"
        },
        "id": "Q1QM9KQbqWfL",
        "outputId": "68727d75-6d76-4026-ed3b-a0141a53a078"
      },
      "execution_count": null,
      "outputs": [
        {
          "output_type": "stream",
          "name": "stdout",
          "text": [
            "Current Date:2025-02-18 15:28:29\n",
            "Future Date: 2025-02-25\n"
          ]
        }
      ]
    },
    {
      "cell_type": "code",
      "source": [
        "#Handle missing or Null data\n",
        "df.dropna(inplace=True)"
      ],
      "metadata": {
        "id": "LxVa5CCprX4-"
      },
      "execution_count": null,
      "outputs": []
    },
    {
      "cell_type": "code",
      "source": [
        "#Handle missing or Null data\n",
        "import pandas as pd\n",
        "df=pd.DataFrame({'Name': ['Chandan','Rahul',None,'Dev'], 'Salary':[5000,7000,6000,None]})\n",
        "#Drop the missing value\n",
        "df.dropna()\n",
        "#Fill the missing value\n",
        "df['Salary'].fillna(df['Salary'].mean(),inplace=True)\n",
        "print(df)"
      ],
      "metadata": {
        "id": "jPGBxvvIrhiz",
        "colab": {
          "base_uri": "https://localhost:8080/"
        },
        "outputId": "299d3a79-8d2b-4514-ef5c-1bc93f05e3ee"
      },
      "execution_count": null,
      "outputs": [
        {
          "output_type": "stream",
          "name": "stdout",
          "text": [
            "      Name  Salary\n",
            "0  Chandan  5000.0\n",
            "1    Rahul  7000.0\n",
            "2     None  6000.0\n",
            "3      Dev  6000.0\n"
          ]
        },
        {
          "output_type": "stream",
          "name": "stderr",
          "text": [
            "<ipython-input-3-6070f6a5cefc>:7: FutureWarning: A value is trying to be set on a copy of a DataFrame or Series through chained assignment using an inplace method.\n",
            "The behavior will change in pandas 3.0. This inplace method will never work because the intermediate object on which we are setting values always behaves as a copy.\n",
            "\n",
            "For example, when doing 'df[col].method(value, inplace=True)', try using 'df.method({col: value}, inplace=True)' or df[col] = df[col].method(value) instead, to perform the operation inplace on the original object.\n",
            "\n",
            "\n",
            "  df['Salary'].fillna(df['Salary'].mean(),inplace=True)\n"
          ]
        }
      ]
    },
    {
      "cell_type": "code",
      "source": [
        "#Handling the time series data\n",
        "df=pd.DataFrame({'Date':['2025-01-01','2025-01-02','2025-01-04'], 'Sales':[100,200,300]})\n",
        "\n",
        "#Convert to datetime\n",
        "df=df.set_index('Date').asfreq('D').fillna(method='ffill')\n",
        "print(df)"
      ],
      "metadata": {
        "colab": {
          "base_uri": "https://localhost:8080/"
        },
        "id": "6VYS8WvplFWI",
        "outputId": "0cf0cb96-e62f-4ddf-ff27-adcf515abe69"
      },
      "execution_count": null,
      "outputs": [
        {
          "output_type": "stream",
          "name": "stdout",
          "text": [
            "            Sales\n",
            "Date             \n",
            "2025-01-01    NaN\n",
            "2025-01-02    NaN\n",
            "2025-01-03    NaN\n",
            "2025-01-04    NaN\n"
          ]
        },
        {
          "output_type": "stream",
          "name": "stderr",
          "text": [
            "<ipython-input-5-d95816674cb3>:5: FutureWarning: DataFrame.fillna with 'method' is deprecated and will raise in a future version. Use obj.ffill() or obj.bfill() instead.\n",
            "  df=df.set_index('Date').asfreq('D').fillna(method='ffill')\n"
          ]
        }
      ]
    }
  ]
}